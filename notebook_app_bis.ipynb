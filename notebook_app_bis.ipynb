{
 "cells": [
  {
   "cell_type": "code",
   "execution_count": 2,
   "metadata": {},
   "outputs": [
    {
     "ename": "ModuleNotFoundError",
     "evalue": "No module named 'pandas'",
     "output_type": "error",
     "traceback": [
      "\u001b[0;31m---------------------------------------------------------------------------\u001b[0m",
      "\u001b[0;31mModuleNotFoundError\u001b[0m                       Traceback (most recent call last)",
      "Cell \u001b[0;32mIn[2], line 1\u001b[0m\n\u001b[0;32m----> 1\u001b[0m \u001b[38;5;28;01mimport\u001b[39;00m \u001b[38;5;21;01mpandas\u001b[39;00m \u001b[38;5;28;01mas\u001b[39;00m \u001b[38;5;21;01mpd\u001b[39;00m\n\u001b[1;32m      2\u001b[0m \u001b[38;5;28;01mfrom\u001b[39;00m \u001b[38;5;21;01mtime\u001b[39;00m \u001b[38;5;28;01mimport\u001b[39;00m sleep\n\u001b[1;32m      3\u001b[0m \u001b[38;5;28;01mimport\u001b[39;00m \u001b[38;5;21;01mspotipy\u001b[39;00m \n",
      "\u001b[0;31mModuleNotFoundError\u001b[0m: No module named 'pandas'"
     ]
    }
   ],
   "source": [
    "import pandas as pd\n",
    "from time import sleep\n",
    "import spotipy \n",
    "from spotipy.oauth2 import SpotifyClientCredentials\n",
    "from sklearn.cluster import KMeans\n",
    "from sklearn.preprocessing import MinMaxScaler\n",
    "import pickle\n",
    "from IPython.display import IFrame\n",
    "import numpy as np\n",
    "\n",
    "import requests\n",
    "# import config\n",
    "from matplotlib import pyplot as plt\n"
   ]
  },
  {
   "cell_type": "code",
   "execution_count": 2,
   "metadata": {},
   "outputs": [],
   "source": [
    "sp = spotipy.Spotify(auth_manager=SpotifyClientCredentials())"
   ]
  },
  {
   "cell_type": "markdown",
   "metadata": {},
   "source": [
    "TEST SONG and games"
   ]
  },
  {
   "cell_type": "code",
   "execution_count": 7,
   "metadata": {},
   "outputs": [
    {
     "data": {
      "text/plain": [
       "[{'danceability': 0.614,\n",
       "  'energy': 0.379,\n",
       "  'key': 4,\n",
       "  'loudness': -10.48,\n",
       "  'mode': 1,\n",
       "  'speechiness': 0.0476,\n",
       "  'acousticness': 0.607,\n",
       "  'instrumentalness': 0.000464,\n",
       "  'liveness': 0.0986,\n",
       "  'valence': 0.201,\n",
       "  'tempo': 107.989,\n",
       "  'type': 'audio_features',\n",
       "  'id': '1HNkqx9Ahdgi1Ixy2xkKkL',\n",
       "  'uri': 'spotify:track:1HNkqx9Ahdgi1Ixy2xkKkL',\n",
       "  'track_href': 'https://api.spotify.com/v1/tracks/1HNkqx9Ahdgi1Ixy2xkKkL',\n",
       "  'analysis_url': 'https://api.spotify.com/v1/audio-analysis/1HNkqx9Ahdgi1Ixy2xkKkL',\n",
       "  'duration_ms': 258987,\n",
       "  'time_signature': 4}]"
      ]
     },
     "execution_count": 7,
     "metadata": {},
     "output_type": "execute_result"
    }
   ],
   "source": [
    "song=sp.audio_features('1HNkqx9Ahdgi1Ixy2xkKkL') # using photograph Ed Sheeran # 6YLlHjowYdcrULkRk4r4Ga #  #eminem 5Z01UMMf7V1o0MzF86s6WJ\n",
    "song"
   ]
  },
  {
   "cell_type": "code",
   "execution_count": 8,
   "metadata": {},
   "outputs": [],
   "source": [
    "song_expl=sp.track('1HNkqx9Ahdgi1Ixy2xkKkL')['explicit']\n",
    "song_pop = sp.track('1HNkqx9Ahdgi1Ixy2xkKkL')['popularity']"
   ]
  },
  {
   "cell_type": "code",
   "execution_count": 9,
   "metadata": {},
   "outputs": [],
   "source": [
    "song_df= pd.DataFrame(song) # testsong DataFrame"
   ]
  },
  {
   "cell_type": "code",
   "execution_count": 10,
   "metadata": {},
   "outputs": [
    {
     "data": {
      "text/html": [
       "<div>\n",
       "<style scoped>\n",
       "    .dataframe tbody tr th:only-of-type {\n",
       "        vertical-align: middle;\n",
       "    }\n",
       "\n",
       "    .dataframe tbody tr th {\n",
       "        vertical-align: top;\n",
       "    }\n",
       "\n",
       "    .dataframe thead th {\n",
       "        text-align: right;\n",
       "    }\n",
       "</style>\n",
       "<table border=\"1\" class=\"dataframe\">\n",
       "  <thead>\n",
       "    <tr style=\"text-align: right;\">\n",
       "      <th></th>\n",
       "      <th>danceability</th>\n",
       "      <th>energy</th>\n",
       "      <th>key</th>\n",
       "      <th>loudness</th>\n",
       "      <th>mode</th>\n",
       "      <th>speechiness</th>\n",
       "      <th>acousticness</th>\n",
       "      <th>instrumentalness</th>\n",
       "      <th>liveness</th>\n",
       "      <th>valence</th>\n",
       "      <th>tempo</th>\n",
       "      <th>type</th>\n",
       "      <th>id</th>\n",
       "      <th>uri</th>\n",
       "      <th>track_href</th>\n",
       "      <th>analysis_url</th>\n",
       "      <th>duration_ms</th>\n",
       "      <th>time_signature</th>\n",
       "      <th>is_explicit</th>\n",
       "      <th>popularity</th>\n",
       "    </tr>\n",
       "  </thead>\n",
       "  <tbody>\n",
       "    <tr>\n",
       "      <th>0</th>\n",
       "      <td>0.614</td>\n",
       "      <td>0.379</td>\n",
       "      <td>4</td>\n",
       "      <td>-10.48</td>\n",
       "      <td>1</td>\n",
       "      <td>0.0476</td>\n",
       "      <td>0.607</td>\n",
       "      <td>0.000464</td>\n",
       "      <td>0.0986</td>\n",
       "      <td>0.201</td>\n",
       "      <td>107.989</td>\n",
       "      <td>audio_features</td>\n",
       "      <td>1HNkqx9Ahdgi1Ixy2xkKkL</td>\n",
       "      <td>spotify:track:1HNkqx9Ahdgi1Ixy2xkKkL</td>\n",
       "      <td>https://api.spotify.com/v1/tracks/1HNkqx9Ahdgi...</td>\n",
       "      <td>https://api.spotify.com/v1/audio-analysis/1HNk...</td>\n",
       "      <td>258987</td>\n",
       "      <td>4</td>\n",
       "      <td>False</td>\n",
       "      <td>84</td>\n",
       "    </tr>\n",
       "  </tbody>\n",
       "</table>\n",
       "</div>"
      ],
      "text/plain": [
       "   danceability  energy  key  loudness  mode  speechiness  acousticness  \\\n",
       "0         0.614   0.379    4    -10.48     1       0.0476         0.607   \n",
       "\n",
       "   instrumentalness  liveness  valence    tempo            type  \\\n",
       "0          0.000464    0.0986    0.201  107.989  audio_features   \n",
       "\n",
       "                       id                                   uri  \\\n",
       "0  1HNkqx9Ahdgi1Ixy2xkKkL  spotify:track:1HNkqx9Ahdgi1Ixy2xkKkL   \n",
       "\n",
       "                                          track_href  \\\n",
       "0  https://api.spotify.com/v1/tracks/1HNkqx9Ahdgi...   \n",
       "\n",
       "                                        analysis_url  duration_ms  \\\n",
       "0  https://api.spotify.com/v1/audio-analysis/1HNk...       258987   \n",
       "\n",
       "   time_signature  is_explicit  popularity  \n",
       "0               4        False          84  "
      ]
     },
     "execution_count": 10,
     "metadata": {},
     "output_type": "execute_result"
    }
   ],
   "source": [
    "song_df['is_explicit']=song_expl\n",
    "song_df['popularity']=song_pop\n",
    "song_df"
   ]
  },
  {
   "cell_type": "code",
   "execution_count": 28,
   "metadata": {},
   "outputs": [],
   "source": [
    "selected_columns = ['is_explicit','popularity','danceability', 'energy', 'key', \n",
    "                    'loudness', 'mode', 'speechiness', 'acousticness', 'instrumentalness', \n",
    "                    'liveness', 'valence', 'tempo', 'time_signature']\n",
    "song_df = song_df[selected_columns]"
   ]
  },
  {
   "cell_type": "markdown",
   "metadata": {},
   "source": [
    "WORKING ON A MODEL FROM A TEST SONG"
   ]
  },
  {
   "cell_type": "markdown",
   "metadata": {},
   "source": [
    "IMPORT DATA"
   ]
  },
  {
   "cell_type": "code",
   "execution_count": 12,
   "metadata": {},
   "outputs": [],
   "source": [
    "tracks_and_features_df = pd.read_csv('tracks_and_features.csv')\n",
    "features_df = pd.read_csv('features.csv')"
   ]
  },
  {
   "cell_type": "markdown",
   "metadata": {},
   "source": [
    "RANDOM SELECTION OF (3) SONG IN CLUSTER"
   ]
  },
  {
   "cell_type": "code",
   "execution_count": 21,
   "metadata": {},
   "outputs": [],
   "source": [
    "def get_song_recommendations(df_good_cluster):\n",
    "    # to convert in function to get 3 random songs and play them\n",
    "    # Empty list\n",
    "\n",
    "    random_list = []\n",
    "\n",
    "    # Randomly select three value\n",
    "    random_value = df_good_cluster['track_id'].sample(n=1).iloc[0]\n",
    "    random_list.append(random_value)\n",
    "    random_value2 = df_good_cluster['track_id'].sample(n=1).iloc[0]\n",
    "    random_list.append(random_value2)\n",
    "    random_value3 = df_good_cluster['track_id'].sample(n=1).iloc[0]\n",
    "    random_list.append(random_value3)\n",
    "    \n",
    "    return random_list\n"
   ]
  },
  {
   "cell_type": "code",
   "execution_count": 22,
   "metadata": {},
   "outputs": [],
   "source": [
    "def play_song(track_id):\n",
    "    return IFrame(src=\"https://open.spotify.com/embed/track/\"+track_id,\n",
    "       width=\"320\",\n",
    "       height=\"80\",\n",
    "       frameborder=\"0\",\n",
    "       allow=\"encrypted-media\",\n",
    "      )"
   ]
  },
  {
   "cell_type": "code",
   "execution_count": 23,
   "metadata": {},
   "outputs": [],
   "source": [
    "# display 3 tracks using a loop :\n",
    "#from IPython.display import display, IFrame\n",
    "# List of track IDs\n",
    "\n",
    "def songs_recommended(df_good_cluster):\n",
    "    track_ids = get_song_recommendations(df_good_cluster)\n",
    "    # Loop through track IDs and display Iframes\n",
    "    for track_id in track_ids:\n",
    "        display(IFrame(src=\"https://open.spotify.com/embed/track/\" + track_id + \"?utm_source=generator\",\n",
    "                   width=\"320\",\n",
    "                   height=\"80\",\n",
    "                   frameborder=\"0\",\n",
    "                   allowtransparency=\"true\",\n",
    "                   allow=\"encrypted-media\"))\n"
   ]
  },
  {
   "cell_type": "markdown",
   "metadata": {},
   "source": [
    "### MODEL : removing some columns (is_explicit, popularity, key, mode, time_signature, liveness)\n",
    "## 6 weights, 6 possibilities"
   ]
  },
  {
   "cell_type": "code",
   "execution_count": 29,
   "metadata": {},
   "outputs": [
    {
     "data": {
      "text/html": [
       "<div>\n",
       "<style scoped>\n",
       "    .dataframe tbody tr th:only-of-type {\n",
       "        vertical-align: middle;\n",
       "    }\n",
       "\n",
       "    .dataframe tbody tr th {\n",
       "        vertical-align: top;\n",
       "    }\n",
       "\n",
       "    .dataframe thead th {\n",
       "        text-align: right;\n",
       "    }\n",
       "</style>\n",
       "<table border=\"1\" class=\"dataframe\">\n",
       "  <thead>\n",
       "    <tr style=\"text-align: right;\">\n",
       "      <th></th>\n",
       "      <th>is_explicit</th>\n",
       "      <th>popularity</th>\n",
       "      <th>danceability</th>\n",
       "      <th>energy</th>\n",
       "      <th>key</th>\n",
       "      <th>loudness</th>\n",
       "      <th>mode</th>\n",
       "      <th>speechiness</th>\n",
       "      <th>acousticness</th>\n",
       "      <th>instrumentalness</th>\n",
       "      <th>liveness</th>\n",
       "      <th>valence</th>\n",
       "      <th>tempo</th>\n",
       "      <th>time_signature</th>\n",
       "    </tr>\n",
       "  </thead>\n",
       "  <tbody>\n",
       "    <tr>\n",
       "      <th>0</th>\n",
       "      <td>False</td>\n",
       "      <td>84</td>\n",
       "      <td>0.614</td>\n",
       "      <td>0.379</td>\n",
       "      <td>4</td>\n",
       "      <td>-10.48</td>\n",
       "      <td>1</td>\n",
       "      <td>0.0476</td>\n",
       "      <td>0.607</td>\n",
       "      <td>0.000464</td>\n",
       "      <td>0.0986</td>\n",
       "      <td>0.201</td>\n",
       "      <td>107.989</td>\n",
       "      <td>4</td>\n",
       "    </tr>\n",
       "  </tbody>\n",
       "</table>\n",
       "</div>"
      ],
      "text/plain": [
       "   is_explicit  popularity  danceability  energy  key  loudness  mode  \\\n",
       "0        False          84         0.614   0.379    4    -10.48     1   \n",
       "\n",
       "   speechiness  acousticness  instrumentalness  liveness  valence    tempo  \\\n",
       "0       0.0476         0.607          0.000464    0.0986    0.201  107.989   \n",
       "\n",
       "   time_signature  \n",
       "0               4  "
      ]
     },
     "execution_count": 29,
     "metadata": {},
     "output_type": "execute_result"
    }
   ],
   "source": [
    "song_df\n"
   ]
  },
  {
   "cell_type": "code",
   "execution_count": 30,
   "metadata": {},
   "outputs": [],
   "source": [
    "def weight_on(song, list_simple):\n",
    "    min_a = 1\n",
    "    min_b = 1\n",
    "    col_a = 'danceability'\n",
    "    col_b = 'danceability'\n",
    "    df_simple = song[[f for f in list_simple]]\n",
    "    for f in df_simple.columns:\n",
    "        if df_simple[f][0] < min_a:\n",
    "            min_a = df_simple[f][0]\n",
    "            col_a = f\n",
    "    for f in df_simple.columns:\n",
    "        if (1-df_simple[f][0]) < min_b:\n",
    "            min_b = 1-df_simple[f][0]\n",
    "            col_b = f\n",
    "    if min_a < min_b:\n",
    "        return col_a\n",
    "    else:\n",
    "        return col_b\n",
    "    "
   ]
  },
  {
   "cell_type": "code",
   "execution_count": 31,
   "metadata": {},
   "outputs": [],
   "source": [
    "list_simple = ['danceability', 'energy','speechiness', 'acousticness', 'instrumentalness','valence']\n"
   ]
  },
  {
   "cell_type": "code",
   "execution_count": 32,
   "metadata": {},
   "outputs": [
    {
     "data": {
      "text/plain": [
       "'instrumentalness'"
      ]
     },
     "execution_count": 32,
     "metadata": {},
     "output_type": "execute_result"
    }
   ],
   "source": [
    "feat = weight_on(song_df, list_simple)\n",
    "feat"
   ]
  },
  {
   "cell_type": "code",
   "execution_count": 34,
   "metadata": {},
   "outputs": [
    {
     "name": "stderr",
     "output_type": "stream",
     "text": [
      "/var/folders/h_/03_vf2y111g3s99jwp4qw0hm0000gn/T/ipykernel_26228/781621344.py:32: SettingWithCopyWarning: \n",
      "A value is trying to be set on a copy of a slice from a DataFrame.\n",
      "Try using .loc[row_indexer,col_indexer] = value instead\n",
      "\n",
      "See the caveats in the documentation: https://pandas.pydata.org/pandas-docs/stable/user_guide/indexing.html#returning-a-view-versus-a-copy\n",
      "  song_w_df['weight_1'] = song_w_df[feat]\n"
     ]
    }
   ],
   "source": [
    "# select the model from the song & prepare the song format & run the model (via pickle)\n",
    "\n",
    "\n",
    "audio_features_model = [ 'danceability', 'energy',\n",
    "       'loudness', 'speechiness', 'acousticness', 'instrumentalness',\n",
    "        'valence', 'tempo']\n",
    "\n",
    "if feat == 'danceability':\n",
    "\n",
    "    song_w_df = song_df[[f for f in audio_features_model]]\n",
    "    song_w_df['weight_1'] = song_w_df[feat] # Changed to only one weight, was too much!\n",
    "\n",
    "# call pickle for each & run test\n",
    "    \n",
    "elif feat == 'energy':\n",
    "    song_w_df = song_df[[f for f in audio_features_model]]\n",
    "    song_w_df['weight_1'] = song_w_df[feat]\n",
    "\n",
    "# call pickle for each & run test\n",
    "    \n",
    "elif feat == 'speechiness':\n",
    "    song_w_df = song_df[[f for f in audio_features_model]]\n",
    "    song_w_df['weight_1'] = song_w_df[feat]\n",
    "\n",
    "# call pickle for each & run test\n",
    "elif feat == 'acousticness':\n",
    "    song_w_df = song_df[[f for f in audio_features_model]]\n",
    "    song_w_df['weight_1'] = song_w_df[feat]\n",
    "\n",
    "# call pickle for each & run test\n",
    "elif feat == 'instrumentalness':\n",
    "    song_w_df = song_df[[f for f in audio_features_model]]\n",
    "    song_w_df['weight_1'] = song_w_df[feat]\n",
    "\n",
    "# call pickle for each & run test\n",
    "elif feat == 'valence':\n",
    "    song_w_df = song_df[[f for f in audio_features_model]]\n",
    "    song_w_df['weight_1'] = song_w_df[feat]\n",
    "else:\n",
    "    pass"
   ]
  },
  {
   "cell_type": "code",
   "execution_count": 35,
   "metadata": {},
   "outputs": [
    {
     "data": {
      "text/html": [
       "<div>\n",
       "<style scoped>\n",
       "    .dataframe tbody tr th:only-of-type {\n",
       "        vertical-align: middle;\n",
       "    }\n",
       "\n",
       "    .dataframe tbody tr th {\n",
       "        vertical-align: top;\n",
       "    }\n",
       "\n",
       "    .dataframe thead th {\n",
       "        text-align: right;\n",
       "    }\n",
       "</style>\n",
       "<table border=\"1\" class=\"dataframe\">\n",
       "  <thead>\n",
       "    <tr style=\"text-align: right;\">\n",
       "      <th></th>\n",
       "      <th>danceability</th>\n",
       "      <th>energy</th>\n",
       "      <th>loudness</th>\n",
       "      <th>speechiness</th>\n",
       "      <th>acousticness</th>\n",
       "      <th>instrumentalness</th>\n",
       "      <th>valence</th>\n",
       "      <th>tempo</th>\n",
       "      <th>weight_1</th>\n",
       "    </tr>\n",
       "  </thead>\n",
       "  <tbody>\n",
       "    <tr>\n",
       "      <th>0</th>\n",
       "      <td>0.614</td>\n",
       "      <td>0.379</td>\n",
       "      <td>-10.48</td>\n",
       "      <td>0.0476</td>\n",
       "      <td>0.607</td>\n",
       "      <td>0.000464</td>\n",
       "      <td>0.201</td>\n",
       "      <td>107.989</td>\n",
       "      <td>0.000464</td>\n",
       "    </tr>\n",
       "  </tbody>\n",
       "</table>\n",
       "</div>"
      ],
      "text/plain": [
       "   danceability  energy  loudness  speechiness  acousticness  \\\n",
       "0         0.614   0.379    -10.48       0.0476         0.607   \n",
       "\n",
       "   instrumentalness  valence    tempo  weight_1  \n",
       "0          0.000464    0.201  107.989  0.000464  "
      ]
     },
     "execution_count": 35,
     "metadata": {},
     "output_type": "execute_result"
    }
   ],
   "source": [
    "song_w_df"
   ]
  },
  {
   "cell_type": "code",
   "execution_count": 36,
   "metadata": {},
   "outputs": [
    {
     "name": "stderr",
     "output_type": "stream",
     "text": [
      "/var/folders/h_/03_vf2y111g3s99jwp4qw0hm0000gn/T/ipykernel_26228/685279586.py:7: SettingWithCopyWarning: \n",
      "A value is trying to be set on a copy of a slice from a DataFrame.\n",
      "Try using .loc[row_indexer,col_indexer] = value instead\n",
      "\n",
      "See the caveats in the documentation: https://pandas.pydata.org/pandas-docs/stable/user_guide/indexing.html#returning-a-view-versus-a-copy\n",
      "  features_df_da['weight_1'] =  features_df_da['danceability']\n"
     ]
    }
   ],
   "source": [
    "# model 1 == 'danceability'\n",
    "\n",
    "audio_features_model_da = [ 'danceability', 'energy',\n",
    "       'loudness', 'speechiness', 'acousticness', 'instrumentalness',\n",
    "        'valence', 'tempo']\n",
    "\n",
    "# creating the dataframe \n",
    "\n",
    "features_df_da = features_df[audio_features_model_da]\n",
    "features_df_da['weight_1'] =  features_df_da['danceability']\n",
    "\n"
   ]
  },
  {
   "cell_type": "code",
   "execution_count": 45,
   "metadata": {},
   "outputs": [
    {
     "name": "stderr",
     "output_type": "stream",
     "text": [
      "/Users/smitaprakas/anaconda3/lib/python3.11/site-packages/sklearn/cluster/_kmeans.py:1412: FutureWarning: The default value of `n_init` will change from 10 to 'auto' in 1.4. Set the value of `n_init` explicitly to suppress the warning\n",
      "  super()._check_params_vs_input(X, default_n_init=10)\n"
     ]
    },
    {
     "data": {
      "text/html": [
       "<style>#sk-container-id-4 {color: black;}#sk-container-id-4 pre{padding: 0;}#sk-container-id-4 div.sk-toggleable {background-color: white;}#sk-container-id-4 label.sk-toggleable__label {cursor: pointer;display: block;width: 100%;margin-bottom: 0;padding: 0.3em;box-sizing: border-box;text-align: center;}#sk-container-id-4 label.sk-toggleable__label-arrow:before {content: \"▸\";float: left;margin-right: 0.25em;color: #696969;}#sk-container-id-4 label.sk-toggleable__label-arrow:hover:before {color: black;}#sk-container-id-4 div.sk-estimator:hover label.sk-toggleable__label-arrow:before {color: black;}#sk-container-id-4 div.sk-toggleable__content {max-height: 0;max-width: 0;overflow: hidden;text-align: left;background-color: #f0f8ff;}#sk-container-id-4 div.sk-toggleable__content pre {margin: 0.2em;color: black;border-radius: 0.25em;background-color: #f0f8ff;}#sk-container-id-4 input.sk-toggleable__control:checked~div.sk-toggleable__content {max-height: 200px;max-width: 100%;overflow: auto;}#sk-container-id-4 input.sk-toggleable__control:checked~label.sk-toggleable__label-arrow:before {content: \"▾\";}#sk-container-id-4 div.sk-estimator input.sk-toggleable__control:checked~label.sk-toggleable__label {background-color: #d4ebff;}#sk-container-id-4 div.sk-label input.sk-toggleable__control:checked~label.sk-toggleable__label {background-color: #d4ebff;}#sk-container-id-4 input.sk-hidden--visually {border: 0;clip: rect(1px 1px 1px 1px);clip: rect(1px, 1px, 1px, 1px);height: 1px;margin: -1px;overflow: hidden;padding: 0;position: absolute;width: 1px;}#sk-container-id-4 div.sk-estimator {font-family: monospace;background-color: #f0f8ff;border: 1px dotted black;border-radius: 0.25em;box-sizing: border-box;margin-bottom: 0.5em;}#sk-container-id-4 div.sk-estimator:hover {background-color: #d4ebff;}#sk-container-id-4 div.sk-parallel-item::after {content: \"\";width: 100%;border-bottom: 1px solid gray;flex-grow: 1;}#sk-container-id-4 div.sk-label:hover label.sk-toggleable__label {background-color: #d4ebff;}#sk-container-id-4 div.sk-serial::before {content: \"\";position: absolute;border-left: 1px solid gray;box-sizing: border-box;top: 0;bottom: 0;left: 50%;z-index: 0;}#sk-container-id-4 div.sk-serial {display: flex;flex-direction: column;align-items: center;background-color: white;padding-right: 0.2em;padding-left: 0.2em;position: relative;}#sk-container-id-4 div.sk-item {position: relative;z-index: 1;}#sk-container-id-4 div.sk-parallel {display: flex;align-items: stretch;justify-content: center;background-color: white;position: relative;}#sk-container-id-4 div.sk-item::before, #sk-container-id-4 div.sk-parallel-item::before {content: \"\";position: absolute;border-left: 1px solid gray;box-sizing: border-box;top: 0;bottom: 0;left: 50%;z-index: -1;}#sk-container-id-4 div.sk-parallel-item {display: flex;flex-direction: column;z-index: 1;position: relative;background-color: white;}#sk-container-id-4 div.sk-parallel-item:first-child::after {align-self: flex-end;width: 50%;}#sk-container-id-4 div.sk-parallel-item:last-child::after {align-self: flex-start;width: 50%;}#sk-container-id-4 div.sk-parallel-item:only-child::after {width: 0;}#sk-container-id-4 div.sk-dashed-wrapped {border: 1px dashed gray;margin: 0 0.4em 0.5em 0.4em;box-sizing: border-box;padding-bottom: 0.4em;background-color: white;}#sk-container-id-4 div.sk-label label {font-family: monospace;font-weight: bold;display: inline-block;line-height: 1.2em;}#sk-container-id-4 div.sk-label-container {text-align: center;}#sk-container-id-4 div.sk-container {/* jupyter's `normalize.less` sets `[hidden] { display: none; }` but bootstrap.min.css set `[hidden] { display: none !important; }` so we also need the `!important` here to be able to override the default hidden behavior on the sphinx rendered scikit-learn.org. See: https://github.com/scikit-learn/scikit-learn/issues/21755 */display: inline-block !important;position: relative;}#sk-container-id-4 div.sk-text-repr-fallback {display: none;}</style><div id=\"sk-container-id-4\" class=\"sk-top-container\"><div class=\"sk-text-repr-fallback\"><pre>KMeans(n_clusters=2000)</pre><b>In a Jupyter environment, please rerun this cell to show the HTML representation or trust the notebook. <br />On GitHub, the HTML representation is unable to render, please try loading this page with nbviewer.org.</b></div><div class=\"sk-container\" hidden><div class=\"sk-item\"><div class=\"sk-estimator sk-toggleable\"><input class=\"sk-toggleable__control sk-hidden--visually\" id=\"sk-estimator-id-4\" type=\"checkbox\" checked><label for=\"sk-estimator-id-4\" class=\"sk-toggleable__label sk-toggleable__label-arrow\">KMeans</label><div class=\"sk-toggleable__content\"><pre>KMeans(n_clusters=2000)</pre></div></div></div></div></div>"
      ],
      "text/plain": [
       "KMeans(n_clusters=2000)"
      ]
     },
     "execution_count": 45,
     "metadata": {},
     "output_type": "execute_result"
    }
   ],
   "source": [
    "km_danc = KMeans(2000)\n",
    "scaler_danc = MinMaxScaler()\n",
    "scaled_features_danc = scaler_danc.fit_transform(features_df_da)\n",
    "km_danc.fit(scaled_features_danc)"
   ]
  },
  {
   "cell_type": "code",
   "execution_count": 46,
   "metadata": {},
   "outputs": [
    {
     "data": {
      "text/plain": [
       "161"
      ]
     },
     "execution_count": 46,
     "metadata": {},
     "output_type": "execute_result"
    }
   ],
   "source": [
    "# predictions\n",
    "\n",
    "scaled_song = scaler_danc.transform(song_w_df) # scaling the chosen song\n",
    "km_danc.predict(scaled_song)\n",
    "temp= km_danc.predict(scaled_song)\n",
    "cluster_number = temp[0]\n",
    "cluster_number"
   ]
  },
  {
   "cell_type": "code",
   "execution_count": 47,
   "metadata": {},
   "outputs": [
    {
     "data": {
      "text/html": [
       "<div>\n",
       "<style scoped>\n",
       "    .dataframe tbody tr th:only-of-type {\n",
       "        vertical-align: middle;\n",
       "    }\n",
       "\n",
       "    .dataframe tbody tr th {\n",
       "        vertical-align: top;\n",
       "    }\n",
       "\n",
       "    .dataframe thead th {\n",
       "        text-align: right;\n",
       "    }\n",
       "</style>\n",
       "<table border=\"1\" class=\"dataframe\">\n",
       "  <thead>\n",
       "    <tr style=\"text-align: right;\">\n",
       "      <th></th>\n",
       "      <th>artist_id</th>\n",
       "      <th>artist_name</th>\n",
       "      <th>track_id</th>\n",
       "      <th>track_name</th>\n",
       "      <th>album_release_date</th>\n",
       "      <th>album_release_date_precision</th>\n",
       "      <th>is_explicit</th>\n",
       "      <th>duration_ms</th>\n",
       "      <th>popularity</th>\n",
       "      <th>danceability</th>\n",
       "      <th>...</th>\n",
       "      <th>instrumentalness</th>\n",
       "      <th>liveness</th>\n",
       "      <th>valence</th>\n",
       "      <th>tempo</th>\n",
       "      <th>duration_ms.1</th>\n",
       "      <th>time_signature</th>\n",
       "      <th>track_href</th>\n",
       "      <th>album_release_year</th>\n",
       "      <th>album_release_decade</th>\n",
       "      <th>cluster_km_danc</th>\n",
       "    </tr>\n",
       "  </thead>\n",
       "  <tbody>\n",
       "    <tr>\n",
       "      <th>782</th>\n",
       "      <td>0rZp7G3gIH6WkyeXbrZnGi</td>\n",
       "      <td>Novo Amor</td>\n",
       "      <td>0u4rkpmNtgcFxYHepnVF4v</td>\n",
       "      <td>Carry You</td>\n",
       "      <td>2017-05-26</td>\n",
       "      <td>day</td>\n",
       "      <td>False</td>\n",
       "      <td>273106</td>\n",
       "      <td>71</td>\n",
       "      <td>0.334</td>\n",
       "      <td>...</td>\n",
       "      <td>0.077400</td>\n",
       "      <td>0.1260</td>\n",
       "      <td>0.0350</td>\n",
       "      <td>93.445</td>\n",
       "      <td>273107</td>\n",
       "      <td>4</td>\n",
       "      <td>https://api.spotify.com/v1/tracks/0u4rkpmNtgcF...</td>\n",
       "      <td>2017</td>\n",
       "      <td>2010</td>\n",
       "      <td>161</td>\n",
       "    </tr>\n",
       "    <tr>\n",
       "      <th>2941</th>\n",
       "      <td>1QsdzIKkTT5gDFj8GB1cIX</td>\n",
       "      <td>Yseult</td>\n",
       "      <td>2DlyVL2X7vRpdJmGgaaSvC</td>\n",
       "      <td>PERDUE</td>\n",
       "      <td>2023-07-07</td>\n",
       "      <td>day</td>\n",
       "      <td>False</td>\n",
       "      <td>317513</td>\n",
       "      <td>49</td>\n",
       "      <td>0.342</td>\n",
       "      <td>...</td>\n",
       "      <td>0.000005</td>\n",
       "      <td>0.1080</td>\n",
       "      <td>0.0768</td>\n",
       "      <td>78.074</td>\n",
       "      <td>317513</td>\n",
       "      <td>4</td>\n",
       "      <td>https://api.spotify.com/v1/tracks/2DlyVL2X7vRp...</td>\n",
       "      <td>2023</td>\n",
       "      <td>2020</td>\n",
       "      <td>161</td>\n",
       "    </tr>\n",
       "    <tr>\n",
       "      <th>3284</th>\n",
       "      <td>7aKldvGENbL4bj8TCWHuhT</td>\n",
       "      <td>Michel Polnareff</td>\n",
       "      <td>2edyuIOPsZrZLBwnsC1u80</td>\n",
       "      <td>Love Me, Please Love Me</td>\n",
       "      <td>1966-01-01</td>\n",
       "      <td>day</td>\n",
       "      <td>False</td>\n",
       "      <td>260666</td>\n",
       "      <td>57</td>\n",
       "      <td>0.306</td>\n",
       "      <td>...</td>\n",
       "      <td>0.000082</td>\n",
       "      <td>0.3920</td>\n",
       "      <td>0.1780</td>\n",
       "      <td>103.842</td>\n",
       "      <td>260667</td>\n",
       "      <td>3</td>\n",
       "      <td>https://api.spotify.com/v1/tracks/2edyuIOPsZrZ...</td>\n",
       "      <td>1966</td>\n",
       "      <td>1960</td>\n",
       "      <td>161</td>\n",
       "    </tr>\n",
       "    <tr>\n",
       "      <th>4102</th>\n",
       "      <td>4Uc8Dsxct0oMqx0P6i60ea</td>\n",
       "      <td>Conan Gray</td>\n",
       "      <td>4xqrdfXkTW4T0RauPLv3WA</td>\n",
       "      <td>Heather</td>\n",
       "      <td>2020-03-20</td>\n",
       "      <td>day</td>\n",
       "      <td>False</td>\n",
       "      <td>198040</td>\n",
       "      <td>91</td>\n",
       "      <td>0.357</td>\n",
       "      <td>...</td>\n",
       "      <td>0.000000</td>\n",
       "      <td>0.3220</td>\n",
       "      <td>0.2700</td>\n",
       "      <td>102.078</td>\n",
       "      <td>198040</td>\n",
       "      <td>3</td>\n",
       "      <td>https://api.spotify.com/v1/tracks/4xqrdfXkTW4T...</td>\n",
       "      <td>2020</td>\n",
       "      <td>2020</td>\n",
       "      <td>161</td>\n",
       "    </tr>\n",
       "    <tr>\n",
       "      <th>5645</th>\n",
       "      <td>36QJpDe2go2KgaRleHCDTp</td>\n",
       "      <td>Led Zeppelin</td>\n",
       "      <td>5CQ30WqJwcep0pYcV4AMNc</td>\n",
       "      <td>Stairway to Heaven - Remaster</td>\n",
       "      <td>1971-11-08</td>\n",
       "      <td>day</td>\n",
       "      <td>False</td>\n",
       "      <td>482830</td>\n",
       "      <td>81</td>\n",
       "      <td>0.338</td>\n",
       "      <td>...</td>\n",
       "      <td>0.003200</td>\n",
       "      <td>0.1160</td>\n",
       "      <td>0.1970</td>\n",
       "      <td>82.433</td>\n",
       "      <td>482830</td>\n",
       "      <td>4</td>\n",
       "      <td>https://api.spotify.com/v1/tracks/5CQ30WqJwcep...</td>\n",
       "      <td>1971</td>\n",
       "      <td>1970</td>\n",
       "      <td>161</td>\n",
       "    </tr>\n",
       "    <tr>\n",
       "      <th>8735</th>\n",
       "      <td>2EwyKG76iX4Pp5HhAD6SKO</td>\n",
       "      <td>Maeta</td>\n",
       "      <td>3KGvzl1vguT4QLEXsplga2</td>\n",
       "      <td>Clarity (feat. Lucky Daye)</td>\n",
       "      <td>2023-06-09</td>\n",
       "      <td>day</td>\n",
       "      <td>False</td>\n",
       "      <td>109071</td>\n",
       "      <td>55</td>\n",
       "      <td>0.360</td>\n",
       "      <td>...</td>\n",
       "      <td>0.000008</td>\n",
       "      <td>0.1100</td>\n",
       "      <td>0.1190</td>\n",
       "      <td>88.735</td>\n",
       "      <td>109071</td>\n",
       "      <td>4</td>\n",
       "      <td>https://api.spotify.com/v1/tracks/3KGvzl1vguT4...</td>\n",
       "      <td>2023</td>\n",
       "      <td>2020</td>\n",
       "      <td>161</td>\n",
       "    </tr>\n",
       "    <tr>\n",
       "      <th>10622</th>\n",
       "      <td>1uf6plWcu7QbKiASVlTUPa</td>\n",
       "      <td>Wesley Joseph</td>\n",
       "      <td>6fdzX7Qy7LN5uaJ0ukH6p5</td>\n",
       "      <td>The Bloom</td>\n",
       "      <td>2021-06-18</td>\n",
       "      <td>day</td>\n",
       "      <td>False</td>\n",
       "      <td>114001</td>\n",
       "      <td>63</td>\n",
       "      <td>0.377</td>\n",
       "      <td>...</td>\n",
       "      <td>0.041500</td>\n",
       "      <td>0.0710</td>\n",
       "      <td>0.1440</td>\n",
       "      <td>92.001</td>\n",
       "      <td>114001</td>\n",
       "      <td>3</td>\n",
       "      <td>https://api.spotify.com/v1/tracks/6fdzX7Qy7LN5...</td>\n",
       "      <td>2021</td>\n",
       "      <td>2020</td>\n",
       "      <td>161</td>\n",
       "    </tr>\n",
       "    <tr>\n",
       "      <th>18358</th>\n",
       "      <td>6kmDosYCYjFQtywDq0DLPZ</td>\n",
       "      <td>Khamari</td>\n",
       "      <td>0kAy9nius3LMRVcE3W0I9J</td>\n",
       "      <td>Right My Wrongs</td>\n",
       "      <td>2023-05-26</td>\n",
       "      <td>day</td>\n",
       "      <td>False</td>\n",
       "      <td>140960</td>\n",
       "      <td>51</td>\n",
       "      <td>0.328</td>\n",
       "      <td>...</td>\n",
       "      <td>0.000049</td>\n",
       "      <td>0.2110</td>\n",
       "      <td>0.1030</td>\n",
       "      <td>78.179</td>\n",
       "      <td>140960</td>\n",
       "      <td>3</td>\n",
       "      <td>https://api.spotify.com/v1/tracks/0kAy9nius3LM...</td>\n",
       "      <td>2023</td>\n",
       "      <td>2020</td>\n",
       "      <td>161</td>\n",
       "    </tr>\n",
       "    <tr>\n",
       "      <th>23285</th>\n",
       "      <td>0dyfVDtoUQYbUz2Aa5vBdq</td>\n",
       "      <td>Bong Gu(GilGuBongGu)</td>\n",
       "      <td>1knmXWjASYVOYFsSFoDWz5</td>\n",
       "      <td>Someday</td>\n",
       "      <td>2023-12-11</td>\n",
       "      <td>day</td>\n",
       "      <td>False</td>\n",
       "      <td>281346</td>\n",
       "      <td>33</td>\n",
       "      <td>0.386</td>\n",
       "      <td>...</td>\n",
       "      <td>0.000000</td>\n",
       "      <td>0.0872</td>\n",
       "      <td>0.1590</td>\n",
       "      <td>106.219</td>\n",
       "      <td>281347</td>\n",
       "      <td>3</td>\n",
       "      <td>https://api.spotify.com/v1/tracks/1knmXWjASYVO...</td>\n",
       "      <td>2023</td>\n",
       "      <td>2020</td>\n",
       "      <td>161</td>\n",
       "    </tr>\n",
       "    <tr>\n",
       "      <th>24976</th>\n",
       "      <td>2Sqr0DXoaYABbjBo9HaMkM</td>\n",
       "      <td>Sara Bareilles</td>\n",
       "      <td>24xqELXbmKDFLKkR3271jb</td>\n",
       "      <td>Stay</td>\n",
       "      <td>2012-05-22</td>\n",
       "      <td>day</td>\n",
       "      <td>False</td>\n",
       "      <td>262613</td>\n",
       "      <td>43</td>\n",
       "      <td>0.262</td>\n",
       "      <td>...</td>\n",
       "      <td>0.001540</td>\n",
       "      <td>0.1400</td>\n",
       "      <td>0.1810</td>\n",
       "      <td>99.913</td>\n",
       "      <td>262613</td>\n",
       "      <td>3</td>\n",
       "      <td>https://api.spotify.com/v1/tracks/24xqELXbmKDF...</td>\n",
       "      <td>2012</td>\n",
       "      <td>2010</td>\n",
       "      <td>161</td>\n",
       "    </tr>\n",
       "    <tr>\n",
       "      <th>25384</th>\n",
       "      <td>6XpaIBNiVzIetEPCWDvAFP</td>\n",
       "      <td>Whitney Houston</td>\n",
       "      <td>6M1M6cRtVkm5d0qTzkSEuK</td>\n",
       "      <td>Run to You</td>\n",
       "      <td>1992-11-17</td>\n",
       "      <td>day</td>\n",
       "      <td>False</td>\n",
       "      <td>264333</td>\n",
       "      <td>67</td>\n",
       "      <td>0.368</td>\n",
       "      <td>...</td>\n",
       "      <td>0.000000</td>\n",
       "      <td>0.1570</td>\n",
       "      <td>0.1310</td>\n",
       "      <td>76.923</td>\n",
       "      <td>264333</td>\n",
       "      <td>4</td>\n",
       "      <td>https://api.spotify.com/v1/tracks/6M1M6cRtVkm5...</td>\n",
       "      <td>1992</td>\n",
       "      <td>1990</td>\n",
       "      <td>161</td>\n",
       "    </tr>\n",
       "    <tr>\n",
       "      <th>26539</th>\n",
       "      <td>7rrTqtOUOwva4sgTx9C9F9</td>\n",
       "      <td>Joy Oladokun</td>\n",
       "      <td>2BGyfq5k9xGO9019bUsYFk</td>\n",
       "      <td>jordan</td>\n",
       "      <td>2021-06-04</td>\n",
       "      <td>day</td>\n",
       "      <td>False</td>\n",
       "      <td>241200</td>\n",
       "      <td>58</td>\n",
       "      <td>0.347</td>\n",
       "      <td>...</td>\n",
       "      <td>0.000004</td>\n",
       "      <td>0.0966</td>\n",
       "      <td>0.1710</td>\n",
       "      <td>96.079</td>\n",
       "      <td>241200</td>\n",
       "      <td>4</td>\n",
       "      <td>https://api.spotify.com/v1/tracks/2BGyfq5k9xGO...</td>\n",
       "      <td>2021</td>\n",
       "      <td>2020</td>\n",
       "      <td>161</td>\n",
       "    </tr>\n",
       "    <tr>\n",
       "      <th>26637</th>\n",
       "      <td>0QrowybipCKUDnq5y10PD2</td>\n",
       "      <td>Amos Lee</td>\n",
       "      <td>6Sf1IjXhbfTIYOHhaj5DG0</td>\n",
       "      <td>Worry No More</td>\n",
       "      <td>2021-08-11</td>\n",
       "      <td>day</td>\n",
       "      <td>False</td>\n",
       "      <td>221066</td>\n",
       "      <td>53</td>\n",
       "      <td>0.272</td>\n",
       "      <td>...</td>\n",
       "      <td>0.001280</td>\n",
       "      <td>0.0879</td>\n",
       "      <td>0.2700</td>\n",
       "      <td>78.721</td>\n",
       "      <td>221066</td>\n",
       "      <td>4</td>\n",
       "      <td>https://api.spotify.com/v1/tracks/6Sf1IjXhbfTI...</td>\n",
       "      <td>2021</td>\n",
       "      <td>2020</td>\n",
       "      <td>161</td>\n",
       "    </tr>\n",
       "    <tr>\n",
       "      <th>30863</th>\n",
       "      <td>13YmWQJFwgZrd4bf5IjMY4</td>\n",
       "      <td>Brad Paisley</td>\n",
       "      <td>3dAgQFdruU8ufWc5GE05xC</td>\n",
       "      <td>She's Everything</td>\n",
       "      <td>2005-08-16</td>\n",
       "      <td>day</td>\n",
       "      <td>False</td>\n",
       "      <td>266920</td>\n",
       "      <td>66</td>\n",
       "      <td>0.355</td>\n",
       "      <td>...</td>\n",
       "      <td>0.000003</td>\n",
       "      <td>0.1940</td>\n",
       "      <td>0.2710</td>\n",
       "      <td>102.967</td>\n",
       "      <td>266920</td>\n",
       "      <td>4</td>\n",
       "      <td>https://api.spotify.com/v1/tracks/3dAgQFdruU8u...</td>\n",
       "      <td>2005</td>\n",
       "      <td>2000</td>\n",
       "      <td>161</td>\n",
       "    </tr>\n",
       "    <tr>\n",
       "      <th>34610</th>\n",
       "      <td>0tncOz6MVpy67IphfE6VHZ</td>\n",
       "      <td>Buddy Greco</td>\n",
       "      <td>48ivErtRGxqq7c7McvCrLu</td>\n",
       "      <td>Summertime in Venice</td>\n",
       "      <td>1964-12-05</td>\n",
       "      <td>day</td>\n",
       "      <td>False</td>\n",
       "      <td>134480</td>\n",
       "      <td>52</td>\n",
       "      <td>0.276</td>\n",
       "      <td>...</td>\n",
       "      <td>0.000000</td>\n",
       "      <td>0.0765</td>\n",
       "      <td>0.2780</td>\n",
       "      <td>109.118</td>\n",
       "      <td>134480</td>\n",
       "      <td>4</td>\n",
       "      <td>https://api.spotify.com/v1/tracks/48ivErtRGxqq...</td>\n",
       "      <td>1964</td>\n",
       "      <td>1960</td>\n",
       "      <td>161</td>\n",
       "    </tr>\n",
       "    <tr>\n",
       "      <th>34882</th>\n",
       "      <td>0n94vC3S9c3mb2HyNAOcjg</td>\n",
       "      <td>The Head And The Heart</td>\n",
       "      <td>34N4miRYCGQwmQEXoCiuuL</td>\n",
       "      <td>Another Story</td>\n",
       "      <td>2013-10-15</td>\n",
       "      <td>day</td>\n",
       "      <td>False</td>\n",
       "      <td>274200</td>\n",
       "      <td>64</td>\n",
       "      <td>0.262</td>\n",
       "      <td>...</td>\n",
       "      <td>0.148000</td>\n",
       "      <td>0.2720</td>\n",
       "      <td>0.1140</td>\n",
       "      <td>85.765</td>\n",
       "      <td>274200</td>\n",
       "      <td>4</td>\n",
       "      <td>https://api.spotify.com/v1/tracks/34N4miRYCGQw...</td>\n",
       "      <td>2013</td>\n",
       "      <td>2010</td>\n",
       "      <td>161</td>\n",
       "    </tr>\n",
       "  </tbody>\n",
       "</table>\n",
       "<p>16 rows × 26 columns</p>\n",
       "</div>"
      ],
      "text/plain": [
       "                    artist_id             artist_name                track_id  \\\n",
       "782    0rZp7G3gIH6WkyeXbrZnGi               Novo Amor  0u4rkpmNtgcFxYHepnVF4v   \n",
       "2941   1QsdzIKkTT5gDFj8GB1cIX                  Yseult  2DlyVL2X7vRpdJmGgaaSvC   \n",
       "3284   7aKldvGENbL4bj8TCWHuhT        Michel Polnareff  2edyuIOPsZrZLBwnsC1u80   \n",
       "4102   4Uc8Dsxct0oMqx0P6i60ea              Conan Gray  4xqrdfXkTW4T0RauPLv3WA   \n",
       "5645   36QJpDe2go2KgaRleHCDTp            Led Zeppelin  5CQ30WqJwcep0pYcV4AMNc   \n",
       "8735   2EwyKG76iX4Pp5HhAD6SKO                   Maeta  3KGvzl1vguT4QLEXsplga2   \n",
       "10622  1uf6plWcu7QbKiASVlTUPa           Wesley Joseph  6fdzX7Qy7LN5uaJ0ukH6p5   \n",
       "18358  6kmDosYCYjFQtywDq0DLPZ                 Khamari  0kAy9nius3LMRVcE3W0I9J   \n",
       "23285  0dyfVDtoUQYbUz2Aa5vBdq    Bong Gu(GilGuBongGu)  1knmXWjASYVOYFsSFoDWz5   \n",
       "24976  2Sqr0DXoaYABbjBo9HaMkM          Sara Bareilles  24xqELXbmKDFLKkR3271jb   \n",
       "25384  6XpaIBNiVzIetEPCWDvAFP         Whitney Houston  6M1M6cRtVkm5d0qTzkSEuK   \n",
       "26539  7rrTqtOUOwva4sgTx9C9F9            Joy Oladokun  2BGyfq5k9xGO9019bUsYFk   \n",
       "26637  0QrowybipCKUDnq5y10PD2                Amos Lee  6Sf1IjXhbfTIYOHhaj5DG0   \n",
       "30863  13YmWQJFwgZrd4bf5IjMY4            Brad Paisley  3dAgQFdruU8ufWc5GE05xC   \n",
       "34610  0tncOz6MVpy67IphfE6VHZ             Buddy Greco  48ivErtRGxqq7c7McvCrLu   \n",
       "34882  0n94vC3S9c3mb2HyNAOcjg  The Head And The Heart  34N4miRYCGQwmQEXoCiuuL   \n",
       "\n",
       "                          track_name album_release_date  \\\n",
       "782                        Carry You         2017-05-26   \n",
       "2941                          PERDUE         2023-07-07   \n",
       "3284         Love Me, Please Love Me         1966-01-01   \n",
       "4102                         Heather         2020-03-20   \n",
       "5645   Stairway to Heaven - Remaster         1971-11-08   \n",
       "8735      Clarity (feat. Lucky Daye)         2023-06-09   \n",
       "10622                      The Bloom         2021-06-18   \n",
       "18358                Right My Wrongs         2023-05-26   \n",
       "23285                        Someday         2023-12-11   \n",
       "24976                           Stay         2012-05-22   \n",
       "25384                     Run to You         1992-11-17   \n",
       "26539                         jordan         2021-06-04   \n",
       "26637                  Worry No More         2021-08-11   \n",
       "30863               She's Everything         2005-08-16   \n",
       "34610           Summertime in Venice         1964-12-05   \n",
       "34882                  Another Story         2013-10-15   \n",
       "\n",
       "      album_release_date_precision  is_explicit  duration_ms  popularity  \\\n",
       "782                            day        False       273106          71   \n",
       "2941                           day        False       317513          49   \n",
       "3284                           day        False       260666          57   \n",
       "4102                           day        False       198040          91   \n",
       "5645                           day        False       482830          81   \n",
       "8735                           day        False       109071          55   \n",
       "10622                          day        False       114001          63   \n",
       "18358                          day        False       140960          51   \n",
       "23285                          day        False       281346          33   \n",
       "24976                          day        False       262613          43   \n",
       "25384                          day        False       264333          67   \n",
       "26539                          day        False       241200          58   \n",
       "26637                          day        False       221066          53   \n",
       "30863                          day        False       266920          66   \n",
       "34610                          day        False       134480          52   \n",
       "34882                          day        False       274200          64   \n",
       "\n",
       "       danceability  ...  instrumentalness  liveness  valence    tempo  \\\n",
       "782           0.334  ...          0.077400    0.1260   0.0350   93.445   \n",
       "2941          0.342  ...          0.000005    0.1080   0.0768   78.074   \n",
       "3284          0.306  ...          0.000082    0.3920   0.1780  103.842   \n",
       "4102          0.357  ...          0.000000    0.3220   0.2700  102.078   \n",
       "5645          0.338  ...          0.003200    0.1160   0.1970   82.433   \n",
       "8735          0.360  ...          0.000008    0.1100   0.1190   88.735   \n",
       "10622         0.377  ...          0.041500    0.0710   0.1440   92.001   \n",
       "18358         0.328  ...          0.000049    0.2110   0.1030   78.179   \n",
       "23285         0.386  ...          0.000000    0.0872   0.1590  106.219   \n",
       "24976         0.262  ...          0.001540    0.1400   0.1810   99.913   \n",
       "25384         0.368  ...          0.000000    0.1570   0.1310   76.923   \n",
       "26539         0.347  ...          0.000004    0.0966   0.1710   96.079   \n",
       "26637         0.272  ...          0.001280    0.0879   0.2700   78.721   \n",
       "30863         0.355  ...          0.000003    0.1940   0.2710  102.967   \n",
       "34610         0.276  ...          0.000000    0.0765   0.2780  109.118   \n",
       "34882         0.262  ...          0.148000    0.2720   0.1140   85.765   \n",
       "\n",
       "       duration_ms.1  time_signature  \\\n",
       "782           273107               4   \n",
       "2941          317513               4   \n",
       "3284          260667               3   \n",
       "4102          198040               3   \n",
       "5645          482830               4   \n",
       "8735          109071               4   \n",
       "10622         114001               3   \n",
       "18358         140960               3   \n",
       "23285         281347               3   \n",
       "24976         262613               3   \n",
       "25384         264333               4   \n",
       "26539         241200               4   \n",
       "26637         221066               4   \n",
       "30863         266920               4   \n",
       "34610         134480               4   \n",
       "34882         274200               4   \n",
       "\n",
       "                                              track_href  album_release_year  \\\n",
       "782    https://api.spotify.com/v1/tracks/0u4rkpmNtgcF...                2017   \n",
       "2941   https://api.spotify.com/v1/tracks/2DlyVL2X7vRp...                2023   \n",
       "3284   https://api.spotify.com/v1/tracks/2edyuIOPsZrZ...                1966   \n",
       "4102   https://api.spotify.com/v1/tracks/4xqrdfXkTW4T...                2020   \n",
       "5645   https://api.spotify.com/v1/tracks/5CQ30WqJwcep...                1971   \n",
       "8735   https://api.spotify.com/v1/tracks/3KGvzl1vguT4...                2023   \n",
       "10622  https://api.spotify.com/v1/tracks/6fdzX7Qy7LN5...                2021   \n",
       "18358  https://api.spotify.com/v1/tracks/0kAy9nius3LM...                2023   \n",
       "23285  https://api.spotify.com/v1/tracks/1knmXWjASYVO...                2023   \n",
       "24976  https://api.spotify.com/v1/tracks/24xqELXbmKDF...                2012   \n",
       "25384  https://api.spotify.com/v1/tracks/6M1M6cRtVkm5...                1992   \n",
       "26539  https://api.spotify.com/v1/tracks/2BGyfq5k9xGO...                2021   \n",
       "26637  https://api.spotify.com/v1/tracks/6Sf1IjXhbfTI...                2021   \n",
       "30863  https://api.spotify.com/v1/tracks/3dAgQFdruU8u...                2005   \n",
       "34610  https://api.spotify.com/v1/tracks/48ivErtRGxqq...                1964   \n",
       "34882  https://api.spotify.com/v1/tracks/34N4miRYCGQw...                2013   \n",
       "\n",
       "       album_release_decade  cluster_km_danc  \n",
       "782                    2010              161  \n",
       "2941                   2020              161  \n",
       "3284                   1960              161  \n",
       "4102                   2020              161  \n",
       "5645                   1970              161  \n",
       "8735                   2020              161  \n",
       "10622                  2020              161  \n",
       "18358                  2020              161  \n",
       "23285                  2020              161  \n",
       "24976                  2010              161  \n",
       "25384                  1990              161  \n",
       "26539                  2020              161  \n",
       "26637                  2020              161  \n",
       "30863                  2000              161  \n",
       "34610                  1960              161  \n",
       "34882                  2010              161  \n",
       "\n",
       "[16 rows x 26 columns]"
      ]
     },
     "execution_count": 47,
     "metadata": {},
     "output_type": "execute_result"
    }
   ],
   "source": [
    "tracks_clustered_df_da = tracks_and_features_df.copy()\n",
    "tracks_clustered_df_da['cluster_km_danc'] = km_danc.labels_\n",
    "df_good_cluster=tracks_clustered_df_da[tracks_clustered_df_da['cluster_km_danc']==cluster_number]\n",
    "df_good_cluster"
   ]
  },
  {
   "cell_type": "code",
   "execution_count": 50,
   "metadata": {},
   "outputs": [],
   "source": [
    "tracks_clustered_df_da.to_csv('tracks_clustered_df_da.csv', index=False) # save our dataset with cluster info\n",
    "# save the model with pickle\n",
    "# save any transformers pickle\n",
    "\n",
    "# saving with pickle:\n",
    "\n",
    "with open('model_km_danc.pickle', 'wb') as handle:\n",
    "    pickle.dump(km_danc, handle, protocol=pickle.HIGHEST_PROTOCOL)\n",
    "\n",
    "with open('scaler.pickle', 'wb') as handle:\n",
    "    pickle.dump(scaler_danc, handle, protocol=pickle.HIGHEST_PROTOCOL)"
   ]
  },
  {
   "cell_type": "code",
   "execution_count": 51,
   "metadata": {},
   "outputs": [
    {
     "data": {
      "text/html": [
       "\n",
       "        <iframe\n",
       "            width=\"320\"\n",
       "            height=\"80\"\n",
       "            src=\"https://open.spotify.com/embed/track/6fdzX7Qy7LN5uaJ0ukH6p5?utm_source=generator?frameborder=0&allowtransparency=true&allow=encrypted-media\"\n",
       "            frameborder=\"0\"\n",
       "            allowfullscreen\n",
       "            \n",
       "        ></iframe>\n",
       "        "
      ],
      "text/plain": [
       "<IPython.lib.display.IFrame at 0x169130290>"
      ]
     },
     "metadata": {},
     "output_type": "display_data"
    },
    {
     "data": {
      "text/html": [
       "\n",
       "        <iframe\n",
       "            width=\"320\"\n",
       "            height=\"80\"\n",
       "            src=\"https://open.spotify.com/embed/track/2DlyVL2X7vRpdJmGgaaSvC?utm_source=generator?frameborder=0&allowtransparency=true&allow=encrypted-media\"\n",
       "            frameborder=\"0\"\n",
       "            allowfullscreen\n",
       "            \n",
       "        ></iframe>\n",
       "        "
      ],
      "text/plain": [
       "<IPython.lib.display.IFrame at 0x1468a1250>"
      ]
     },
     "metadata": {},
     "output_type": "display_data"
    },
    {
     "data": {
      "text/html": [
       "\n",
       "        <iframe\n",
       "            width=\"320\"\n",
       "            height=\"80\"\n",
       "            src=\"https://open.spotify.com/embed/track/5CQ30WqJwcep0pYcV4AMNc?utm_source=generator?frameborder=0&allowtransparency=true&allow=encrypted-media\"\n",
       "            frameborder=\"0\"\n",
       "            allowfullscreen\n",
       "            \n",
       "        ></iframe>\n",
       "        "
      ],
      "text/plain": [
       "<IPython.lib.display.IFrame at 0x1468a1250>"
      ]
     },
     "metadata": {},
     "output_type": "display_data"
    }
   ],
   "source": [
    "songs_recommended(df_good_cluster)"
   ]
  },
  {
   "cell_type": "code",
   "execution_count": 52,
   "metadata": {},
   "outputs": [
    {
     "name": "stderr",
     "output_type": "stream",
     "text": [
      "/var/folders/h_/03_vf2y111g3s99jwp4qw0hm0000gn/T/ipykernel_26228/3984993542.py:10: SettingWithCopyWarning: \n",
      "A value is trying to be set on a copy of a slice from a DataFrame.\n",
      "Try using .loc[row_indexer,col_indexer] = value instead\n",
      "\n",
      "See the caveats in the documentation: https://pandas.pydata.org/pandas-docs/stable/user_guide/indexing.html#returning-a-view-versus-a-copy\n",
      "  features_df_en['weight_1'] =  features_df_en['energy']\n",
      "/Users/smitaprakas/anaconda3/lib/python3.11/site-packages/sklearn/cluster/_kmeans.py:1412: FutureWarning: The default value of `n_init` will change from 10 to 'auto' in 1.4. Set the value of `n_init` explicitly to suppress the warning\n",
      "  super()._check_params_vs_input(X, default_n_init=10)\n"
     ]
    }
   ],
   "source": [
    "# model 2 == 'energy'\n",
    "\n",
    "audio_features_model_en = [ 'danceability', 'energy',\n",
    "       'loudness', 'speechiness', 'acousticness', 'instrumentalness',\n",
    "        'valence', 'tempo']\n",
    "\n",
    "# creating the dataframe \n",
    "\n",
    "features_df_en = features_df[audio_features_model_en]\n",
    "features_df_en['weight_1'] =  features_df_en['energy']\n",
    "\n",
    "km_ener = KMeans(2000)\n",
    "scaler_ener = MinMaxScaler()\n",
    "scaled_features_ener = scaler_ener.fit_transform(features_df_en)\n",
    "km_ener.fit(scaled_features_ener)\n",
    "\n",
    "# predictions\n",
    "\n",
    "scaled_song = scaler_ener.transform(song_w_df) # scaling the chosen song\n",
    "km_ener.predict(scaled_song)\n",
    "temp= km_ener.predict(scaled_song)\n",
    "cluster_number = temp[0]\n",
    "cluster_number\n",
    "\n",
    "tracks_clustered_df_en = tracks_and_features_df.copy()\n",
    "tracks_clustered_df_en['cluster_km_ener'] = km_ener.labels_\n",
    "df_good_cluster=tracks_clustered_df_en[tracks_clustered_df_en['cluster_km_ener']==cluster_number]\n",
    "df_good_cluster\n",
    "\n",
    "tracks_clustered_df_en.to_csv('tracks_clustered_df_en.csv', index=False) # save our dataset with cluster info\n",
    "# save the model with pickle\n",
    "# save any transformers pickle\n",
    "\n",
    "# saving with pickle:\n",
    "\n",
    "with open('model_km_ener.pickle', 'wb') as handle:\n",
    "    pickle.dump(km_ener, handle, protocol=pickle.HIGHEST_PROTOCOL)\n",
    "\n",
    "with open('scaler.pickle', 'wb') as handle:\n",
    "    pickle.dump(scaler_ener, handle, protocol=pickle.HIGHEST_PROTOCOL)"
   ]
  },
  {
   "cell_type": "code",
   "execution_count": 53,
   "metadata": {},
   "outputs": [
    {
     "data": {
      "text/html": [
       "\n",
       "        <iframe\n",
       "            width=\"320\"\n",
       "            height=\"80\"\n",
       "            src=\"https://open.spotify.com/embed/track/1ARdJJkOah64yR9mod4IGf?utm_source=generator?frameborder=0&allowtransparency=true&allow=encrypted-media\"\n",
       "            frameborder=\"0\"\n",
       "            allowfullscreen\n",
       "            \n",
       "        ></iframe>\n",
       "        "
      ],
      "text/plain": [
       "<IPython.lib.display.IFrame at 0x16923c1d0>"
      ]
     },
     "metadata": {},
     "output_type": "display_data"
    },
    {
     "data": {
      "text/html": [
       "\n",
       "        <iframe\n",
       "            width=\"320\"\n",
       "            height=\"80\"\n",
       "            src=\"https://open.spotify.com/embed/track/3tRqKrFc94pUhbN1MCxpYR?utm_source=generator?frameborder=0&allowtransparency=true&allow=encrypted-media\"\n",
       "            frameborder=\"0\"\n",
       "            allowfullscreen\n",
       "            \n",
       "        ></iframe>\n",
       "        "
      ],
      "text/plain": [
       "<IPython.lib.display.IFrame at 0x144812710>"
      ]
     },
     "metadata": {},
     "output_type": "display_data"
    },
    {
     "data": {
      "text/html": [
       "\n",
       "        <iframe\n",
       "            width=\"320\"\n",
       "            height=\"80\"\n",
       "            src=\"https://open.spotify.com/embed/track/2PPOMyH1XtNFd6emNTnTDm?utm_source=generator?frameborder=0&allowtransparency=true&allow=encrypted-media\"\n",
       "            frameborder=\"0\"\n",
       "            allowfullscreen\n",
       "            \n",
       "        ></iframe>\n",
       "        "
      ],
      "text/plain": [
       "<IPython.lib.display.IFrame at 0x1464dd0d0>"
      ]
     },
     "metadata": {},
     "output_type": "display_data"
    }
   ],
   "source": [
    "songs_recommended(df_good_cluster)"
   ]
  },
  {
   "cell_type": "code",
   "execution_count": 54,
   "metadata": {},
   "outputs": [
    {
     "name": "stderr",
     "output_type": "stream",
     "text": [
      "/var/folders/h_/03_vf2y111g3s99jwp4qw0hm0000gn/T/ipykernel_26228/1848754848.py:7: SettingWithCopyWarning: \n",
      "A value is trying to be set on a copy of a slice from a DataFrame.\n",
      "Try using .loc[row_indexer,col_indexer] = value instead\n",
      "\n",
      "See the caveats in the documentation: https://pandas.pydata.org/pandas-docs/stable/user_guide/indexing.html#returning-a-view-versus-a-copy\n",
      "  features_df_sp['weight_1'] =  features_df_sp['speechiness']\n",
      "/Users/smitaprakas/anaconda3/lib/python3.11/site-packages/sklearn/cluster/_kmeans.py:1412: FutureWarning: The default value of `n_init` will change from 10 to 'auto' in 1.4. Set the value of `n_init` explicitly to suppress the warning\n",
      "  super()._check_params_vs_input(X, default_n_init=10)\n"
     ]
    }
   ],
   "source": [
    "# model 3 == 'speechiness'\n",
    "\n",
    "audio_features_model_sp = ['danceability', 'energy', 'loudness', 'speechiness', 'acousticness', 'instrumentalness', 'valence', 'tempo']\n",
    "\n",
    "# creating the dataframe \n",
    "features_df_sp = features_df[audio_features_model_sp]\n",
    "features_df_sp['weight_1'] =  features_df_sp['speechiness']\n",
    "\n",
    "km_sp = KMeans(2000)\n",
    "scaler_sp = MinMaxScaler()\n",
    "scaled_features_sp = scaler_sp.fit_transform(features_df_sp)\n",
    "km_sp.fit(scaled_features_sp)\n",
    "\n",
    "# predictions\n",
    "scaled_song_sp = scaler_sp.transform(song_w_df) # scaling the chosen song\n",
    "km_sp.predict(scaled_song_sp)\n",
    "temp_sp = km_sp.predict(scaled_song_sp)\n",
    "cluster_number_sp = temp_sp[0]\n",
    "\n",
    "tracks_clustered_df_sp = tracks_and_features_df.copy()\n",
    "tracks_clustered_df_sp['cluster_km_sp'] = km_sp.labels_\n",
    "df_good_cluster_sp = tracks_clustered_df_sp[tracks_clustered_df_sp['cluster_km_sp'] == cluster_number_sp]\n",
    "\n",
    "tracks_clustered_df_sp.to_csv('tracks_clustered_df_sp.csv', index=False) # save our dataset with cluster info\n",
    "\n",
    "# save the model with pickle\n",
    "# save any transformers pickle\n",
    "# saving with pickle:\n",
    "with open('model_km_sp.pickle', 'wb') as handle:\n",
    "    pickle.dump(km_sp, handle, protocol=pickle.HIGHEST_PROTOCOL)\n",
    "\n",
    "with open('scaler_sp.pickle', 'wb') as handle:\n",
    "    pickle.dump(scaler_sp, handle, protocol=pickle.HIGHEST_PROTOCOL)\n"
   ]
  },
  {
   "cell_type": "code",
   "execution_count": 55,
   "metadata": {},
   "outputs": [
    {
     "data": {
      "text/html": [
       "\n",
       "        <iframe\n",
       "            width=\"320\"\n",
       "            height=\"80\"\n",
       "            src=\"https://open.spotify.com/embed/track/4aAVHWiFKSFjqirTn75sXE?utm_source=generator?frameborder=0&allowtransparency=true&allow=encrypted-media\"\n",
       "            frameborder=\"0\"\n",
       "            allowfullscreen\n",
       "            \n",
       "        ></iframe>\n",
       "        "
      ],
      "text/plain": [
       "<IPython.lib.display.IFrame at 0x169211290>"
      ]
     },
     "metadata": {},
     "output_type": "display_data"
    },
    {
     "data": {
      "text/html": [
       "\n",
       "        <iframe\n",
       "            width=\"320\"\n",
       "            height=\"80\"\n",
       "            src=\"https://open.spotify.com/embed/track/4aAVHWiFKSFjqirTn75sXE?utm_source=generator?frameborder=0&allowtransparency=true&allow=encrypted-media\"\n",
       "            frameborder=\"0\"\n",
       "            allowfullscreen\n",
       "            \n",
       "        ></iframe>\n",
       "        "
      ],
      "text/plain": [
       "<IPython.lib.display.IFrame at 0x169a0c0d0>"
      ]
     },
     "metadata": {},
     "output_type": "display_data"
    },
    {
     "data": {
      "text/html": [
       "\n",
       "        <iframe\n",
       "            width=\"320\"\n",
       "            height=\"80\"\n",
       "            src=\"https://open.spotify.com/embed/track/6i7QP9auNhpIZgPopuXPOm?utm_source=generator?frameborder=0&allowtransparency=true&allow=encrypted-media\"\n",
       "            frameborder=\"0\"\n",
       "            allowfullscreen\n",
       "            \n",
       "        ></iframe>\n",
       "        "
      ],
      "text/plain": [
       "<IPython.lib.display.IFrame at 0x169a0c0d0>"
      ]
     },
     "metadata": {},
     "output_type": "display_data"
    }
   ],
   "source": [
    "songs_recommended(df_good_cluster)"
   ]
  },
  {
   "cell_type": "code",
   "execution_count": 56,
   "metadata": {},
   "outputs": [
    {
     "name": "stderr",
     "output_type": "stream",
     "text": [
      "/var/folders/h_/03_vf2y111g3s99jwp4qw0hm0000gn/T/ipykernel_26228/164631264.py:7: SettingWithCopyWarning: \n",
      "A value is trying to be set on a copy of a slice from a DataFrame.\n",
      "Try using .loc[row_indexer,col_indexer] = value instead\n",
      "\n",
      "See the caveats in the documentation: https://pandas.pydata.org/pandas-docs/stable/user_guide/indexing.html#returning-a-view-versus-a-copy\n",
      "  features_df_ac['weight_1'] =  features_df_ac['acousticness']\n",
      "/Users/smitaprakas/anaconda3/lib/python3.11/site-packages/sklearn/cluster/_kmeans.py:1412: FutureWarning: The default value of `n_init` will change from 10 to 'auto' in 1.4. Set the value of `n_init` explicitly to suppress the warning\n",
      "  super()._check_params_vs_input(X, default_n_init=10)\n"
     ]
    }
   ],
   "source": [
    "# model 4 == 'acousticness'\n",
    "\n",
    "audio_features_model_ac = ['danceability', 'energy', 'loudness', 'speechiness', 'acousticness', 'instrumentalness', 'valence', 'tempo']\n",
    "\n",
    "# creating the dataframe \n",
    "features_df_ac = features_df[audio_features_model_ac]\n",
    "features_df_ac['weight_1'] =  features_df_ac['acousticness']\n",
    "\n",
    "km_ac = KMeans(2000)\n",
    "scaler_ac = MinMaxScaler()\n",
    "scaled_features_ac = scaler_ac.fit_transform(features_df_ac)\n",
    "km_ac.fit(scaled_features_ac)\n",
    "\n",
    "# predictions\n",
    "scaled_song_ac = scaler_ac.transform(song_w_df) # scaling the chosen song\n",
    "km_ac.predict(scaled_song_ac)\n",
    "temp_ac = km_ac.predict(scaled_song_ac)\n",
    "cluster_number_ac = temp_ac[0]\n",
    "\n",
    "tracks_clustered_df_ac = tracks_and_features_df.copy()\n",
    "tracks_clustered_df_ac['cluster_km_ac'] = km_ac.labels_\n",
    "df_good_cluster_ac = tracks_clustered_df_ac[tracks_clustered_df_ac['cluster_km_ac'] == cluster_number_ac]\n",
    "\n",
    "tracks_clustered_df_ac.to_csv('tracks_clustered_df_ac.csv', index=False) # save our dataset with cluster info\n",
    "\n",
    "# save the model with pickle\n",
    "# save any transformers pickle\n",
    "# saving with pickle:\n",
    "with open('model_km_ac.pickle', 'wb') as handle:\n",
    "    pickle.dump(km_ac, handle, protocol=pickle.HIGHEST_PROTOCOL)\n",
    "\n",
    "with open('scaler_ac.pickle', 'wb') as handle:\n",
    "    pickle.dump(scaler_ac, handle, protocol=pickle.HIGHEST_PROTOCOL)\n"
   ]
  },
  {
   "cell_type": "code",
   "execution_count": 57,
   "metadata": {},
   "outputs": [
    {
     "data": {
      "text/html": [
       "\n",
       "        <iframe\n",
       "            width=\"320\"\n",
       "            height=\"80\"\n",
       "            src=\"https://open.spotify.com/embed/track/6OnVA4MncA68Nfu69GTfHC?utm_source=generator?frameborder=0&allowtransparency=true&allow=encrypted-media\"\n",
       "            frameborder=\"0\"\n",
       "            allowfullscreen\n",
       "            \n",
       "        ></iframe>\n",
       "        "
      ],
      "text/plain": [
       "<IPython.lib.display.IFrame at 0x1464fc710>"
      ]
     },
     "metadata": {},
     "output_type": "display_data"
    },
    {
     "data": {
      "text/html": [
       "\n",
       "        <iframe\n",
       "            width=\"320\"\n",
       "            height=\"80\"\n",
       "            src=\"https://open.spotify.com/embed/track/6WDUEu8kkQVYAucW4dFWzk?utm_source=generator?frameborder=0&allowtransparency=true&allow=encrypted-media\"\n",
       "            frameborder=\"0\"\n",
       "            allowfullscreen\n",
       "            \n",
       "        ></iframe>\n",
       "        "
      ],
      "text/plain": [
       "<IPython.lib.display.IFrame at 0x1464fc710>"
      ]
     },
     "metadata": {},
     "output_type": "display_data"
    },
    {
     "data": {
      "text/html": [
       "\n",
       "        <iframe\n",
       "            width=\"320\"\n",
       "            height=\"80\"\n",
       "            src=\"https://open.spotify.com/embed/track/3hhbDnFUb2bicI2df6VurK?utm_source=generator?frameborder=0&allowtransparency=true&allow=encrypted-media\"\n",
       "            frameborder=\"0\"\n",
       "            allowfullscreen\n",
       "            \n",
       "        ></iframe>\n",
       "        "
      ],
      "text/plain": [
       "<IPython.lib.display.IFrame at 0x1468e3ed0>"
      ]
     },
     "metadata": {},
     "output_type": "display_data"
    }
   ],
   "source": [
    "songs_recommended(df_good_cluster)"
   ]
  },
  {
   "cell_type": "code",
   "execution_count": 58,
   "metadata": {},
   "outputs": [
    {
     "name": "stderr",
     "output_type": "stream",
     "text": [
      "/var/folders/h_/03_vf2y111g3s99jwp4qw0hm0000gn/T/ipykernel_26228/4011511482.py:7: SettingWithCopyWarning: \n",
      "A value is trying to be set on a copy of a slice from a DataFrame.\n",
      "Try using .loc[row_indexer,col_indexer] = value instead\n",
      "\n",
      "See the caveats in the documentation: https://pandas.pydata.org/pandas-docs/stable/user_guide/indexing.html#returning-a-view-versus-a-copy\n",
      "  features_df_ins['weight_1'] =  features_df_ins['instrumentalness']\n",
      "/Users/smitaprakas/anaconda3/lib/python3.11/site-packages/sklearn/cluster/_kmeans.py:1412: FutureWarning: The default value of `n_init` will change from 10 to 'auto' in 1.4. Set the value of `n_init` explicitly to suppress the warning\n",
      "  super()._check_params_vs_input(X, default_n_init=10)\n"
     ]
    }
   ],
   "source": [
    "# model 5 == 'instrumentalness'\n",
    "\n",
    "audio_features_model_ins = ['danceability', 'energy', 'loudness', 'speechiness', 'acousticness', 'instrumentalness', 'valence', 'tempo']\n",
    "\n",
    "# creating the dataframe \n",
    "features_df_ins = features_df[audio_features_model_ins]\n",
    "features_df_ins['weight_1'] =  features_df_ins['instrumentalness']\n",
    "\n",
    "km_ins = KMeans(2000)\n",
    "scaler_ins = MinMaxScaler()\n",
    "scaled_features_ins = scaler_ins.fit_transform(features_df_ins)\n",
    "km_ins.fit(scaled_features_ins)\n",
    "\n",
    "# predictions\n",
    "scaled_song_ins = scaler_ins.transform(song_w_df) # scaling the chosen song\n",
    "km_ins.predict(scaled_song_ins)\n",
    "temp_ins = km_ins.predict(scaled_song_ins)\n",
    "cluster_number_ins = temp_ins[0]\n",
    "\n",
    "tracks_clustered_df_ins = tracks_and_features_df.copy()\n",
    "tracks_clustered_df_ins['cluster_km_ins'] = km_ins.labels_\n",
    "df_good_cluster_ins = tracks_clustered_df_ins[tracks_clustered_df_ins['cluster_km_ins'] == cluster_number_ins]\n",
    "\n",
    "tracks_clustered_df_ins.to_csv('tracks_clustered_df_ins.csv', index=False) # save our dataset with cluster info\n",
    "\n",
    "# save the model with pickle\n",
    "# save any transformers pickle\n",
    "# saving with pickle:\n",
    "with open('model_km_ins.pickle', 'wb') as handle:\n",
    "    pickle.dump(km_ins, handle, protocol=pickle.HIGHEST_PROTOCOL)\n",
    "\n",
    "with open('scaler_ins.pickle', 'wb') as handle:\n",
    "    pickle.dump(scaler_ins, handle, protocol=pickle.HIGHEST_PROTOCOL)\n",
    "\n"
   ]
  },
  {
   "cell_type": "code",
   "execution_count": 59,
   "metadata": {},
   "outputs": [
    {
     "data": {
      "text/html": [
       "\n",
       "        <iframe\n",
       "            width=\"320\"\n",
       "            height=\"80\"\n",
       "            src=\"https://open.spotify.com/embed/track/4vLYewWIvqHfKtJDk8c8tq?utm_source=generator?frameborder=0&allowtransparency=true&allow=encrypted-media\"\n",
       "            frameborder=\"0\"\n",
       "            allowfullscreen\n",
       "            \n",
       "        ></iframe>\n",
       "        "
      ],
      "text/plain": [
       "<IPython.lib.display.IFrame at 0x169a0de90>"
      ]
     },
     "metadata": {},
     "output_type": "display_data"
    },
    {
     "data": {
      "text/html": [
       "\n",
       "        <iframe\n",
       "            width=\"320\"\n",
       "            height=\"80\"\n",
       "            src=\"https://open.spotify.com/embed/track/5FwlCxV2Q4xjTywLsD3Kxe?utm_source=generator?frameborder=0&allowtransparency=true&allow=encrypted-media\"\n",
       "            frameborder=\"0\"\n",
       "            allowfullscreen\n",
       "            \n",
       "        ></iframe>\n",
       "        "
      ],
      "text/plain": [
       "<IPython.lib.display.IFrame at 0x169a0de90>"
      ]
     },
     "metadata": {},
     "output_type": "display_data"
    },
    {
     "data": {
      "text/html": [
       "\n",
       "        <iframe\n",
       "            width=\"320\"\n",
       "            height=\"80\"\n",
       "            src=\"https://open.spotify.com/embed/track/5FwlCxV2Q4xjTywLsD3Kxe?utm_source=generator?frameborder=0&allowtransparency=true&allow=encrypted-media\"\n",
       "            frameborder=\"0\"\n",
       "            allowfullscreen\n",
       "            \n",
       "        ></iframe>\n",
       "        "
      ],
      "text/plain": [
       "<IPython.lib.display.IFrame at 0x1468e3ed0>"
      ]
     },
     "metadata": {},
     "output_type": "display_data"
    }
   ],
   "source": [
    "songs_recommended(df_good_cluster)"
   ]
  },
  {
   "cell_type": "code",
   "execution_count": 60,
   "metadata": {},
   "outputs": [
    {
     "name": "stderr",
     "output_type": "stream",
     "text": [
      "/var/folders/h_/03_vf2y111g3s99jwp4qw0hm0000gn/T/ipykernel_26228/665432488.py:7: SettingWithCopyWarning: \n",
      "A value is trying to be set on a copy of a slice from a DataFrame.\n",
      "Try using .loc[row_indexer,col_indexer] = value instead\n",
      "\n",
      "See the caveats in the documentation: https://pandas.pydata.org/pandas-docs/stable/user_guide/indexing.html#returning-a-view-versus-a-copy\n",
      "  features_df_val['weight_1'] =  features_df_val['valence']\n",
      "/Users/smitaprakas/anaconda3/lib/python3.11/site-packages/sklearn/cluster/_kmeans.py:1412: FutureWarning: The default value of `n_init` will change from 10 to 'auto' in 1.4. Set the value of `n_init` explicitly to suppress the warning\n",
      "  super()._check_params_vs_input(X, default_n_init=10)\n"
     ]
    }
   ],
   "source": [
    "# model 6 == 'valence'\n",
    "\n",
    "audio_features_model_val = ['danceability', 'energy', 'loudness', 'speechiness', 'acousticness', 'instrumentalness', 'valence', 'tempo']\n",
    "\n",
    "# creating the dataframe \n",
    "features_df_val = features_df[audio_features_model_val]\n",
    "features_df_val['weight_1'] =  features_df_val['valence']\n",
    "\n",
    "km_val = KMeans(2000)\n",
    "scaler_val = MinMaxScaler()\n",
    "scaled_features_val = scaler_val.fit_transform(features_df_val)\n",
    "km_val.fit(scaled_features_val)\n",
    "\n",
    "# predictions\n",
    "scaled_song_val = scaler_val.transform(song_w_df) # scaling the chosen song\n",
    "km_val.predict(scaled_song_val)\n",
    "temp_val = km_val.predict(scaled_song_val)\n",
    "cluster_number_val = temp_val[0]\n",
    "\n",
    "tracks_clustered_df_val = tracks_and_features_df.copy()\n",
    "tracks_clustered_df_val['cluster_km_val'] = km_val.labels_\n",
    "df_good_cluster_val = tracks_clustered_df_val[tracks_clustered_df_val['cluster_km_val'] == cluster_number_val]\n",
    "\n",
    "tracks_clustered_df_val.to_csv('tracks_clustered_df_val.csv', index=False) # save our dataset with cluster info\n",
    "\n",
    "# save the model with pickle\n",
    "# save any transformers pickle\n",
    "# saving with pickle:\n",
    "with open('model_km_val.pickle', 'wb') as handle:\n",
    "    pickle.dump(km_val, handle, protocol=pickle.HIGHEST_PROTOCOL)\n",
    "\n",
    "with open('scaler_val.pickle', 'wb') as handle:\n",
    "    pickle.dump(scaler_val, handle, protocol=pickle.HIGHEST_PROTOCOL)\n"
   ]
  },
  {
   "cell_type": "code",
   "execution_count": 61,
   "metadata": {},
   "outputs": [
    {
     "data": {
      "text/html": [
       "\n",
       "        <iframe\n",
       "            width=\"320\"\n",
       "            height=\"80\"\n",
       "            src=\"https://open.spotify.com/embed/track/0NZTCM482lCDSDtvNgeeuz?utm_source=generator?frameborder=0&allowtransparency=true&allow=encrypted-media\"\n",
       "            frameborder=\"0\"\n",
       "            allowfullscreen\n",
       "            \n",
       "        ></iframe>\n",
       "        "
      ],
      "text/plain": [
       "<IPython.lib.display.IFrame at 0x169a0de90>"
      ]
     },
     "metadata": {},
     "output_type": "display_data"
    },
    {
     "data": {
      "text/html": [
       "\n",
       "        <iframe\n",
       "            width=\"320\"\n",
       "            height=\"80\"\n",
       "            src=\"https://open.spotify.com/embed/track/3tRqKrFc94pUhbN1MCxpYR?utm_source=generator?frameborder=0&allowtransparency=true&allow=encrypted-media\"\n",
       "            frameborder=\"0\"\n",
       "            allowfullscreen\n",
       "            \n",
       "        ></iframe>\n",
       "        "
      ],
      "text/plain": [
       "<IPython.lib.display.IFrame at 0x169a0de90>"
      ]
     },
     "metadata": {},
     "output_type": "display_data"
    },
    {
     "data": {
      "text/html": [
       "\n",
       "        <iframe\n",
       "            width=\"320\"\n",
       "            height=\"80\"\n",
       "            src=\"https://open.spotify.com/embed/track/6i7QP9auNhpIZgPopuXPOm?utm_source=generator?frameborder=0&allowtransparency=true&allow=encrypted-media\"\n",
       "            frameborder=\"0\"\n",
       "            allowfullscreen\n",
       "            \n",
       "        ></iframe>\n",
       "        "
      ],
      "text/plain": [
       "<IPython.lib.display.IFrame at 0x169a0de90>"
      ]
     },
     "metadata": {},
     "output_type": "display_data"
    }
   ],
   "source": [
    "songs_recommended(df_good_cluster)"
   ]
  }
 ],
 "metadata": {
  "kernelspec": {
   "display_name": "Python 3 (ipykernel)",
   "language": "python",
   "name": "python3"
  },
  "language_info": {
   "codemirror_mode": {
    "name": "ipython",
    "version": 3
   },
   "file_extension": ".py",
   "mimetype": "text/x-python",
   "name": "python",
   "nbconvert_exporter": "python",
   "pygments_lexer": "ipython3",
   "version": "3.10.2"
  }
 },
 "nbformat": 4,
 "nbformat_minor": 2
}
